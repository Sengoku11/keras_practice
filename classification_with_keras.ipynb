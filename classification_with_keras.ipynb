{
 "cells": [
  {
   "cell_type": "markdown",
   "metadata": {},
   "source": [
    "# Digits recognition with Neural Networks\n",
    "\n",
    "In this project I will compare three models that recognizes handwritten digits: \n",
    "* Standard Neural Network, \n",
    "* Convolutional Neural Network \n",
    "* and SGD Classification model."
   ]
  },
  {
   "cell_type": "code",
   "execution_count": 1,
   "metadata": {},
   "outputs": [
    {
     "name": "stderr",
     "output_type": "stream",
     "text": [
      "Using TensorFlow backend.\n"
     ]
    }
   ],
   "source": [
    "%matplotlib inline\n",
    "import matplotlib as mpl\n",
    "import matplotlib.pyplot as plt\n",
    "import keras\n",
    "import numpy as np\n",
    "from sklearn.model_selection import train_test_split\n",
    "from keras.models import Sequential\n",
    "from keras.layers import Dense\n",
    "from keras.utils import to_categorical\n",
    "from keras.layers.convolutional import Conv2D, MaxPooling2D\n",
    "from keras.layers import Flatten\n",
    "from sklearn.linear_model import SGDClassifier, LogisticRegression\n",
    "from sklearn.model_selection import cross_val_score, cross_validate\n",
    "from sklearn.metrics import accuracy_score, precision_score, recall_score, f1_score, make_scorer, confusion_matrix\n",
    "from sklearn.preprocessing import StandardScaler"
   ]
  },
  {
   "cell_type": "markdown",
   "metadata": {},
   "source": [
    "Let's check that GPU is working:"
   ]
  },
  {
   "cell_type": "code",
   "execution_count": 2,
   "metadata": {},
   "outputs": [
    {
     "data": {
      "text/plain": [
       "[name: \"/device:CPU:0\"\n",
       " device_type: \"CPU\"\n",
       " memory_limit: 268435456\n",
       " locality {\n",
       " }\n",
       " incarnation: 580934593798183338, name: \"/device:GPU:0\"\n",
       " device_type: \"GPU\"\n",
       " memory_limit: 6662668288\n",
       " locality {\n",
       "   bus_id: 1\n",
       "   links {\n",
       "   }\n",
       " }\n",
       " incarnation: 4353266478686519621\n",
       " physical_device_desc: \"device: 0, name: GeForce GTX 1070 Ti, pci bus id: 0000:09:00.0, compute capability: 6.1\"]"
      ]
     },
     "execution_count": 2,
     "metadata": {},
     "output_type": "execute_result"
    }
   ],
   "source": [
    "from tensorflow.python.client import device_lib\n",
    "device_lib.list_local_devices()"
   ]
  },
  {
   "cell_type": "markdown",
   "metadata": {},
   "source": [
    "## About the data\n",
    "\n",
    "The MNIST database contains 60,000 training images and 10,000 testing images of digits written by high school students and employees of the United States Census Bureau."
   ]
  },
  {
   "cell_type": "code",
   "execution_count": 3,
   "metadata": {},
   "outputs": [],
   "source": [
    "from keras.datasets import mnist\n",
    "\n",
    "(X, y), (X_test, y_test) = mnist.load_data()"
   ]
  },
  {
   "cell_type": "code",
   "execution_count": 4,
   "metadata": {},
   "outputs": [
    {
     "data": {
      "text/plain": [
       "(60000, 28, 28)"
      ]
     },
     "execution_count": 4,
     "metadata": {},
     "output_type": "execute_result"
    }
   ],
   "source": [
    "X.shape"
   ]
  },
  {
   "cell_type": "code",
   "execution_count": 5,
   "metadata": {},
   "outputs": [
    {
     "data": {
      "image/png": "[encoded data removed]",
      "text/plain": [
       "<Figure size 432x288 with 1 Axes>"
      ]
     },
     "metadata": {
      "needs_background": "light"
     },
     "output_type": "display_data"
    }
   ],
   "source": [
    "plt.imshow(X[12])\n",
    "plt.axis(\"off\")\n",
    "plt.show()"
   ]
  },
  {
   "cell_type": "code",
   "execution_count": 6,
   "metadata": {},
   "outputs": [
    {
     "data": {
      "text/plain": [
       "3"
      ]
     },
     "execution_count": 6,
     "metadata": {},
     "output_type": "execute_result"
    }
   ],
   "source": [
    "y[12]"
   ]
  },
  {
   "cell_type": "markdown",
   "metadata": {},
   "source": [
    "# Standard Neural Network\n",
    "\n",
    "\n",
    "#### Preprocessing"
   ]
  },
  {
   "cell_type": "code",
   "execution_count": 7,
   "metadata": {},
   "outputs": [],
   "source": [
    "(X, y), (X_test, y_test) = mnist.load_data()\n",
    "\n",
    "# Train validation split\n",
    "X_train, X_val, y_train, y_val = train_test_split(X, y, test_size=0.2, random_state=11)\n",
    "\n",
    "# Vectorizing images\n",
    "num_pixels = X_train.shape[1] * X_train.shape[2]\n",
    "X_train = X_train.reshape(X_train.shape[0], num_pixels).astype('float32')\n",
    "X_test = X_test.reshape(X_test.shape[0], num_pixels).astype('float32')\n",
    "X_val = X_val.reshape(X_val.shape[0], num_pixels).astype('float32')\n",
    "\n",
    "# Normalizing\n",
    "X_train = X_train / X_train.max()\n",
    "X_test = X_test / X_test.max()\n",
    "X_val = X_val / X_val.max()\n",
    "\n",
    "# One hot encoding outputs\n",
    "y_train = to_categorical(y_train)\n",
    "y_test = to_categorical(y_test)\n",
    "y_val = to_categorical(y_val)"
   ]
  },
  {
   "cell_type": "markdown",
   "metadata": {},
   "source": [
    "#### Evaluation metrics\n",
    "\n",
    "Since Keras have removed f1 score I will create a custom one:"
   ]
  },
  {
   "cell_type": "code",
   "execution_count": 8,
   "metadata": {},
   "outputs": [],
   "source": [
    "from keras import backend as K\n",
    "\n",
    "def f1(y_true, y_pred):\n",
    "    def recall(y_true, y_pred):\n",
    "        \"\"\"Recall metric.\n",
    "\n",
    "        Only computes a batch-wise average of recall.\n",
    "\n",
    "        Computes the recall, a metric for multi-label classification of\n",
    "        how many relevant items are selected.\n",
    "        \"\"\"\n",
    "        true_positives = K.sum(K.round(K.clip(y_true * y_pred, 0, 1)))\n",
    "        possible_positives = K.sum(K.round(K.clip(y_true, 0, 1)))\n",
    "        recall = true_positives / (possible_positives + K.epsilon())\n",
    "        return recall\n",
    "\n",
    "    def precision(y_true, y_pred):\n",
    "        \"\"\"Precision metric.\n",
    "\n",
    "        Only computes a batch-wise average of precision.\n",
    "\n",
    "        Computes the precision, a metric for multi-label classification of\n",
    "        how many selected items are relevant.\n",
    "        \"\"\"\n",
    "        true_positives = K.sum(K.round(K.clip(y_true * y_pred, 0, 1)))\n",
    "        predicted_positives = K.sum(K.round(K.clip(y_pred, 0, 1)))\n",
    "        precision = true_positives / (predicted_positives + K.epsilon())\n",
    "        return precision\n",
    "    precision = precision(y_true, y_pred)\n",
    "    recall = recall(y_true, y_pred)\n",
    "    return 2*((precision*recall)/(precision+recall+K.epsilon()))"
   ]
  },
  {
   "cell_type": "markdown",
   "metadata": {},
   "source": [
    "#### Training a model"
   ]
  },
  {
   "cell_type": "code",
   "execution_count": 9,
   "metadata": {},
   "outputs": [],
   "source": [
    "def create_classification_model():\n",
    "    model = Sequential()\n",
    "    model.add(Dense(num_pixels, activation=\"relu\", input_shape=(num_pixels, )))\n",
    "    model.add(Dense(100, activation=\"relu\"))\n",
    "    model.add(Dense(10, activation=\"relu\"))\n",
    "    model.add(Dense(y_train.shape[1], activation=\"softmax\"))    \n",
    "    model.compile(optimizer=\"adam\", loss=\"categorical_crossentropy\", metrics=['accuracy', f1])\n",
    "    return model"
   ]
  },
  {
   "cell_type": "code",
   "execution_count": 10,
   "metadata": {},
   "outputs": [
    {
     "name": "stdout",
     "output_type": "stream",
     "text": [
      "Train on 48000 samples, validate on 12000 samples\n",
      "Epoch 1/15\n",
      " - 6s - loss: 0.2780 - accuracy: 0.9162 - f1: 0.9122 - val_loss: 0.1400 - val_accuracy: 0.9587 - val_f1: 0.9593\n",
      "Epoch 2/15\n",
      " - 6s - loss: 0.0942 - accuracy: 0.9721 - f1: 0.9723 - val_loss: 0.1048 - val_accuracy: 0.9689 - val_f1: 0.9693\n",
      "Epoch 3/15\n",
      " - 6s - loss: 0.0638 - accuracy: 0.9801 - f1: 0.9804 - val_loss: 0.1132 - val_accuracy: 0.9668 - val_f1: 0.9682\n",
      "Epoch 4/15\n",
      " - 6s - loss: 0.0455 - accuracy: 0.9860 - f1: 0.9861 - val_loss: 0.0989 - val_accuracy: 0.9729 - val_f1: 0.9729\n",
      "Epoch 5/15\n",
      " - 6s - loss: 0.0371 - accuracy: 0.9881 - f1: 0.9882 - val_loss: 0.1220 - val_accuracy: 0.9682 - val_f1: 0.9680\n",
      "Epoch 6/15\n",
      " - 6s - loss: 0.0306 - accuracy: 0.9899 - f1: 0.9900 - val_loss: 0.1336 - val_accuracy: 0.9692 - val_f1: 0.9692\n",
      "Epoch 7/15\n",
      " - 6s - loss: 0.0256 - accuracy: 0.9919 - f1: 0.9918 - val_loss: 0.1067 - val_accuracy: 0.9734 - val_f1: 0.9736\n",
      "Epoch 8/15\n",
      " - 6s - loss: 0.0215 - accuracy: 0.9931 - f1: 0.9933 - val_loss: 0.1045 - val_accuracy: 0.9739 - val_f1: 0.9743\n",
      "Epoch 9/15\n",
      " - 6s - loss: 0.0182 - accuracy: 0.9944 - f1: 0.9944 - val_loss: 0.1006 - val_accuracy: 0.9786 - val_f1: 0.9790\n",
      "Epoch 10/15\n",
      " - 6s - loss: 0.0157 - accuracy: 0.9952 - f1: 0.9952 - val_loss: 0.0955 - val_accuracy: 0.9787 - val_f1: 0.9788\n",
      "Epoch 11/15\n",
      " - 6s - loss: 0.0173 - accuracy: 0.9951 - f1: 0.9951 - val_loss: 0.1109 - val_accuracy: 0.9764 - val_f1: 0.9764\n",
      "Epoch 12/15\n",
      " - 6s - loss: 0.0156 - accuracy: 0.9953 - f1: 0.9952 - val_loss: 0.1564 - val_accuracy: 0.9728 - val_f1: 0.9727\n",
      "Epoch 13/15\n",
      " - 6s - loss: 0.0139 - accuracy: 0.9957 - f1: 0.9957 - val_loss: 0.1168 - val_accuracy: 0.9770 - val_f1: 0.9770\n",
      "Epoch 14/15\n",
      " - 6s - loss: 0.0131 - accuracy: 0.9961 - f1: 0.9961 - val_loss: 0.1456 - val_accuracy: 0.9733 - val_f1: 0.9733\n",
      "Epoch 15/15\n",
      " - 6s - loss: 0.0128 - accuracy: 0.9959 - f1: 0.9958 - val_loss: 0.1194 - val_accuracy: 0.9768 - val_f1: 0.9769\n"
     ]
    },
    {
     "data": {
      "text/plain": [
       "<keras.callbacks.callbacks.History at 0x22f6f8bee08>"
      ]
     },
     "execution_count": 10,
     "metadata": {},
     "output_type": "execute_result"
    }
   ],
   "source": [
    "model = create_classification_model()\n",
    "\n",
    "model.fit(X_train, y_train, validation_data=(X_val, y_val), epochs=15, verbose=2)"
   ]
  },
  {
   "cell_type": "code",
   "execution_count": 11,
   "metadata": {},
   "outputs": [
    {
     "name": "stdout",
     "output_type": "stream",
     "text": [
      "Accuracy: 98.13%\n",
      "F1: 98.15%\n"
     ]
    }
   ],
   "source": [
    "scores = model.evaluate(X_test, y_test, verbose=0)\n",
    "accuracy, f1_scores = scores[1], scores[2]\n",
    "print('Accuracy: {:.2f}%'.format(accuracy*100))\n",
    "print('F1: {:.2f}%'.format(f1_scores*100))"
   ]
  },
  {
   "cell_type": "markdown",
   "metadata": {},
   "source": [
    "Very good. Now let's see what Convolutional NN can show"
   ]
  },
  {
   "cell_type": "markdown",
   "metadata": {},
   "source": [
    "# Convolutional Neural Network (CNN)\n",
    "\n",
    "#### Preprocessing"
   ]
  },
  {
   "cell_type": "code",
   "execution_count": 12,
   "metadata": {},
   "outputs": [],
   "source": [
    "(X, y), (X_test, y_test) = mnist.load_data()\n",
    "\n",
    "# Train validation split\n",
    "X_train, X_val, y_train, y_val = train_test_split(X, y, test_size=0.2, random_state=11)\n",
    "\n",
    "# 4D reshape\n",
    "X_train = X_train.reshape(X_train.shape[0], 28, 28, 1).astype('float32')\n",
    "X_val = X_val.reshape(X_val.shape[0], 28, 28, 1).astype('float32')\n",
    "X_test = X_test.reshape(X_test.shape[0], 28, 28, 1).astype('float32')\n",
    "\n",
    "# Normalizing\n",
    "X_train = X_train / X_train.max()\n",
    "X_test = X_test / X_test.max()\n",
    "X_val = X_val / X_val.max()\n",
    "\n",
    "# One hot encoding outputs\n",
    "y_train = to_categorical(y_train)\n",
    "y_test = to_categorical(y_test)\n",
    "y_val = to_categorical(y_val)"
   ]
  },
  {
   "cell_type": "markdown",
   "metadata": {},
   "source": [
    "#### Training a model"
   ]
  },
  {
   "cell_type": "code",
   "execution_count": 13,
   "metadata": {},
   "outputs": [],
   "source": [
    "num_classes = y_train.shape[1]\n",
    "\n",
    "def create_cnn_model():\n",
    "    model = Sequential()\n",
    "    model.add(Conv2D(32, kernel_size=(5,5), activation=\"relu\", input_shape=(28,28,1)))\n",
    "    model.add(MaxPooling2D(pool_size=(2,2), strides=(2,2)))\n",
    "    model.add(Conv2D(64, kernel_size=(2,2), activation=\"relu\"))\n",
    "    model.add(MaxPooling2D(pool_size=(2,2), strides=(2,2)))\n",
    "    model.add(Flatten())\n",
    "    model.add(Dense(100, activation=\"relu\"))\n",
    "    model.add(Dense(num_classes, activation=\"softmax\"))\n",
    "    model.compile(optimizer=\"adam\", loss=\"categorical_crossentropy\", metrics=['accuracy', f1])\n",
    "    return model"
   ]
  },
  {
   "cell_type": "code",
   "execution_count": 14,
   "metadata": {},
   "outputs": [],
   "source": [
    "cnn_model = create_cnn_model()"
   ]
  },
  {
   "cell_type": "code",
   "execution_count": 15,
   "metadata": {},
   "outputs": [
    {
     "name": "stdout",
     "output_type": "stream",
     "text": [
      "Train on 48000 samples, validate on 12000 samples\n",
      "Epoch 1/15\n",
      " - 3s - loss: 0.3166 - accuracy: 0.9130 - f1: 0.8797 - val_loss: 0.1043 - val_accuracy: 0.9687 - val_f1: 0.9691\n",
      "Epoch 2/15\n",
      " - 2s - loss: 0.0759 - accuracy: 0.9771 - f1: 0.9772 - val_loss: 0.0796 - val_accuracy: 0.9758 - val_f1: 0.9766\n",
      "Epoch 3/15\n",
      " - 2s - loss: 0.0513 - accuracy: 0.9847 - f1: 0.9848 - val_loss: 0.0620 - val_accuracy: 0.9816 - val_f1: 0.9820\n",
      "Epoch 4/15\n",
      " - 2s - loss: 0.0415 - accuracy: 0.9874 - f1: 0.9876 - val_loss: 0.0560 - val_accuracy: 0.9829 - val_f1: 0.9826\n",
      "Epoch 5/15\n",
      " - 2s - loss: 0.0336 - accuracy: 0.9895 - f1: 0.9895 - val_loss: 0.0523 - val_accuracy: 0.9844 - val_f1: 0.9844\n",
      "Epoch 6/15\n",
      " - 2s - loss: 0.0278 - accuracy: 0.9915 - f1: 0.9916 - val_loss: 0.0464 - val_accuracy: 0.9856 - val_f1: 0.9857\n",
      "Epoch 7/15\n",
      " - 2s - loss: 0.0248 - accuracy: 0.9922 - f1: 0.9922 - val_loss: 0.0468 - val_accuracy: 0.9869 - val_f1: 0.9869\n",
      "Epoch 8/15\n",
      " - 2s - loss: 0.0202 - accuracy: 0.9938 - f1: 0.9938 - val_loss: 0.0457 - val_accuracy: 0.9859 - val_f1: 0.9860\n",
      "Epoch 9/15\n",
      " - 2s - loss: 0.0172 - accuracy: 0.9944 - f1: 0.9945 - val_loss: 0.0428 - val_accuracy: 0.9879 - val_f1: 0.9878\n",
      "Epoch 10/15\n",
      " - 2s - loss: 0.0144 - accuracy: 0.9958 - f1: 0.9957 - val_loss: 0.0549 - val_accuracy: 0.9848 - val_f1: 0.9849\n",
      "Epoch 11/15\n",
      " - 2s - loss: 0.0135 - accuracy: 0.9955 - f1: 0.9955 - val_loss: 0.0483 - val_accuracy: 0.9861 - val_f1: 0.9864\n",
      "Epoch 12/15\n",
      " - 2s - loss: 0.0116 - accuracy: 0.9962 - f1: 0.9962 - val_loss: 0.0484 - val_accuracy: 0.9860 - val_f1: 0.9862\n",
      "Epoch 13/15\n",
      " - 2s - loss: 0.0086 - accuracy: 0.9974 - f1: 0.9974 - val_loss: 0.0497 - val_accuracy: 0.9877 - val_f1: 0.9880\n",
      "Epoch 14/15\n",
      " - 2s - loss: 0.0090 - accuracy: 0.9971 - f1: 0.9972 - val_loss: 0.0475 - val_accuracy: 0.9886 - val_f1: 0.9887\n",
      "Epoch 15/15\n",
      " - 2s - loss: 0.0074 - accuracy: 0.9976 - f1: 0.9977 - val_loss: 0.0430 - val_accuracy: 0.9888 - val_f1: 0.9890\n"
     ]
    },
    {
     "data": {
      "text/plain": [
       "<keras.callbacks.callbacks.History at 0x22f6fc5ed88>"
      ]
     },
     "execution_count": 15,
     "metadata": {},
     "output_type": "execute_result"
    }
   ],
   "source": [
    "cnn_model.fit(X_train, y_train, validation_data=(X_val, y_val), batch_size=200, epochs=15, verbose=2)"
   ]
  },
  {
   "cell_type": "code",
   "execution_count": 16,
   "metadata": {},
   "outputs": [
    {
     "name": "stdout",
     "output_type": "stream",
     "text": [
      "Accuracy: 99.07%\n",
      "F1: 99.09%\n"
     ]
    }
   ],
   "source": [
    "scores = cnn_model.evaluate(X_test, y_test, verbose=0)\n",
    "accuracy, f1_scores = scores[1], scores[2]\n",
    "print('Accuracy: {:.2f}%'.format(accuracy*100))\n",
    "print('F1: {:.2f}%'.format(f1_scores*100))"
   ]
  },
  {
   "cell_type": "markdown",
   "metadata": {},
   "source": [
    "CNN is three times faster and shows two times smaller loss than the standard one. \n",
    "\n",
    "#### Confusion analize"
   ]
  },
  {
   "cell_type": "code",
   "execution_count": 17,
   "metadata": {},
   "outputs": [
    {
     "data": {
      "image/png": "[encoded data removed]",
      "text/plain": [
       "<Figure size 288x288 with 1 Axes>"
      ]
     },
     "metadata": {
      "needs_background": "light"
     },
     "output_type": "display_data"
    },
    {
     "name": "stdout",
     "output_type": "stream",
     "text": [
      "Rows are Test values and columns are Predicted.\n"
     ]
    }
   ],
   "source": [
    "y_pred = cnn_model.predict(X_test)\n",
    "y_pred = [np.argmax(x) for x in y_pred]  # reverse O-H-Encoding\n",
    "y_test = [np.argmax(x) for x in y_test]\n",
    "\n",
    "conf_mx = confusion_matrix(y_test, y_pred)\n",
    "\n",
    "row_sums = conf_mx.sum(axis=1, keepdims=True)\n",
    "norm_conf_mx = conf_mx / row_sums\n",
    "np.fill_diagonal(norm_conf_mx, 0)\n",
    "plt.matshow(norm_conf_mx, cmap=plt.cm.gray)\n",
    "plt.show()\n",
    "print(\"Rows are Test values and columns are Predicted.\")"
   ]
  },
  {
   "cell_type": "markdown",
   "metadata": {},
   "source": [
    "Most confusions are with 5 which classified as 3. Also, some 9 were classified as 3 and 4\n",
    "\n",
    "\n",
    "Let's see 5, 8 and 9 digits"
   ]
  },
  {
   "cell_type": "code",
   "execution_count": 18,
   "metadata": {},
   "outputs": [
    {
     "data": {
      "image/png": "[encoded data removed]",
      "text/plain": [
       "<Figure size 1152x1152 with 2 Axes>"
      ]
     },
     "metadata": {
      "needs_background": "light"
     },
     "output_type": "display_data"
    }
   ],
   "source": [
    "def plot_digits(instances, images_per_row=10, **options):\n",
    "    size = 28\n",
    "    images_per_row = min(len(instances), images_per_row)\n",
    "    images = [instance.reshape(size,size) for instance in instances]\n",
    "    n_rows = (len(instances) - 1) // images_per_row + 1\n",
    "    row_images = []\n",
    "    n_empty = n_rows * images_per_row - len(instances)\n",
    "    images.append(np.zeros((size, size * n_empty)))\n",
    "    for row in range(n_rows):\n",
    "        rimages = images[row * images_per_row : (row + 1) * images_per_row]\n",
    "        row_images.append(np.concatenate(rimages, axis=1))\n",
    "    image = np.concatenate(row_images, axis=0)\n",
    "    plt.imshow(image, cmap = mpl.cm.binary, **options)\n",
    "    plt.axis(\"off\")\n",
    "\n",
    "    \n",
    "digit = 5\n",
    "true_idxs = [idx for idx, x in enumerate(y_test) if x==digit]\n",
    "false_neg_idxs = [idx for idx in true_idxs if y_pred[idx]!=digit]\n",
    "false_pos_idxs = [idx for idx, x in enumerate(y_pred) if (idx not in true_idxs) & (y_pred[idx]==digit)]\n",
    "\n",
    "plt.figure(figsize=(16,16))\n",
    "plt.subplot(121); plt.title(\"False negatives\"); plot_digits(X_test[false_neg_idxs], images_per_row=5)\n",
    "plt.subplot(122); plt.title(\"False positives\"); plot_digits(X_test[false_pos_idxs], images_per_row=5)\n",
    "plt.show()"
   ]
  },
  {
   "cell_type": "code",
   "execution_count": 19,
   "metadata": {},
   "outputs": [
    {
     "data": {
      "image/png": "[encoded data removed]",
      "text/plain": [
       "<Figure size 1152x1152 with 2 Axes>"
      ]
     },
     "metadata": {
      "needs_background": "light"
     },
     "output_type": "display_data"
    }
   ],
   "source": [
    "digit = 8\n",
    "true_idxs = [idx for idx, x in enumerate(y_test) if x==digit]\n",
    "false_neg_idxs = [idx for idx in true_idxs if y_pred[idx]!=digit]\n",
    "false_pos_idxs = [idx for idx, x in enumerate(y_pred) if (idx not in true_idxs) & (y_pred[idx]==digit)]\n",
    "\n",
    "plt.figure(figsize=(16,16))\n",
    "plt.subplot(121); plt.title(\"False negatives\"); plot_digits(X_test[false_neg_idxs], images_per_row=5)\n",
    "plt.subplot(122); plt.title(\"False positives\"); plot_digits(X_test[false_pos_idxs], images_per_row=5)\n",
    "plt.show()"
   ]
  },
  {
   "cell_type": "code",
   "execution_count": 20,
   "metadata": {},
   "outputs": [
    {
     "data": {
      "image/png": "[encoded data removed]",
      "text/plain": [
       "<Figure size 1152x1152 with 2 Axes>"
      ]
     },
     "metadata": {
      "needs_background": "light"
     },
     "output_type": "display_data"
    }
   ],
   "source": [
    "digit = 9\n",
    "true_idxs = [idx for idx, x in enumerate(y_test) if x==digit]\n",
    "false_neg_idxs = [idx for idx in true_idxs if y_pred[idx]!=digit]\n",
    "false_pos_idxs = [idx for idx, x in enumerate(y_pred) if (idx not in true_idxs) & (y_pred[idx]==digit)]\n",
    "\n",
    "plt.figure(figsize=(16,16))\n",
    "plt.subplot(121); plt.title(\"False negatives\"); plot_digits(X_test[false_neg_idxs], images_per_row=5)\n",
    "plt.subplot(122); plt.title(\"False positives\"); plot_digits(X_test[false_pos_idxs], images_per_row=5)\n",
    "plt.show()"
   ]
  },
  {
   "cell_type": "markdown",
   "metadata": {},
   "source": [
    "Some cases are hard to recognize even for a human. But still, there is a place for improvement"
   ]
  },
  {
   "cell_type": "markdown",
   "metadata": {},
   "source": [
    "# SGD Classification model\n",
    "\n",
    "Finally, just to compare with NN I will build a simple classification model"
   ]
  },
  {
   "cell_type": "code",
   "execution_count": 21,
   "metadata": {},
   "outputs": [],
   "source": [
    "(X, y), (X_test, y_test) = mnist.load_data()\n",
    "\n",
    "# Vectorization\n",
    "X_train = X.reshape(X.shape[0], num_pixels)\n",
    "X_test = X_train.reshape(X_train.shape[0], num_pixels)\n",
    "\n",
    "# Normalizing\n",
    "X_train = X_train / X_train.max()"
   ]
  },
  {
   "cell_type": "code",
   "execution_count": 22,
   "metadata": {},
   "outputs": [],
   "source": [
    "def print_scores(score):\n",
    "    print(\"Accuracy:  {:0.2f}%\".format(100*score['test_accuracy'].mean()))\n",
    "    print(\"F1 score:  {:0.2f}%\".format(100*score['test_f1'].mean()))\n",
    "    \n",
    "scoring = {\n",
    "    'accuracy': make_scorer(accuracy_score),\n",
    "    'f1': make_scorer(f1_score, average=\"weighted\")\n",
    "}"
   ]
  },
  {
   "cell_type": "code",
   "execution_count": 23,
   "metadata": {},
   "outputs": [
    {
     "name": "stderr",
     "output_type": "stream",
     "text": [
      "[Parallel(n_jobs=-1)]: Using backend LokyBackend with 12 concurrent workers.\n",
      "[Parallel(n_jobs=-1)]: Done   3 out of   3 | elapsed:   12.5s finished\n"
     ]
    }
   ],
   "source": [
    "clf_model = SGDClassifier(random_state=11)\n",
    "score = cross_validate(clf_model, X_train, y, cv=3, verbose=3, scoring=scoring, n_jobs=-1)"
   ]
  },
  {
   "cell_type": "code",
   "execution_count": 24,
   "metadata": {},
   "outputs": [
    {
     "name": "stdout",
     "output_type": "stream",
     "text": [
      "Accuracy:  90.65%\n",
      "F1 score:  90.61%\n"
     ]
    }
   ],
   "source": [
    "print_scores(score)"
   ]
  },
  {
   "cell_type": "markdown",
   "metadata": {},
   "source": [
    "Good results. Still, it mistakes 10 times more often than CNN does"
   ]
  },
  {
   "cell_type": "markdown",
   "metadata": {},
   "source": [
    "## Save the model"
   ]
  },
  {
   "cell_type": "code",
   "execution_count": 25,
   "metadata": {},
   "outputs": [],
   "source": [
    "cnn_model.save('mnist_nn.h5')"
   ]
  }
 ],
 "metadata": {
  "kernelspec": {
   "display_name": "Python37",
   "language": "python",
   "name": "python37"
  },
  "language_info": {
   "codemirror_mode": {
    "name": "ipython",
    "version": 3
   },
   "file_extension": ".py",
   "mimetype": "text/x-python",
   "name": "python",
   "nbconvert_exporter": "python",
   "pygments_lexer": "ipython3",
   "version": "3.7.6"
  }
 },
 "nbformat": 4,
 "nbformat_minor": 4
}
