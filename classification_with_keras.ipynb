{
 "cells": [
  {
   "cell_type": "markdown",
   "metadata": {},
   "source": [
    "# Digits recognition with Neural Networks\n",
    "\n",
    "In this project I will compare three models that recognizes handwritten digits: \n",
    "* Standard Neural Network, \n",
    "* Convolutional Neural Network \n",
    "* and SGD Classification model."
   ]
  },
  {
   "cell_type": "code",
   "execution_count": 1,
   "metadata": {},
   "outputs": [
    {
     "name": "stderr",
     "output_type": "stream",
     "text": [
      "Using TensorFlow backend.\n"
     ]
    }
   ],
   "source": [
    "%matplotlib inline\n",
    "import matplotlib.pyplot as plt\n",
    "import keras\n",
    "import numpy as np\n",
    "from sklearn.model_selection import train_test_split\n",
    "from keras.models import Sequential\n",
    "from keras.layers import Dense\n",
    "from keras.utils import to_categorical\n",
    "from keras.layers.convolutional import Conv2D, MaxPooling2D\n",
    "from keras.layers import Flatten\n",
    "from sklearn.linear_model import SGDClassifier, LogisticRegression\n",
    "from sklearn.model_selection import cross_val_score, cross_validate\n",
    "from sklearn.metrics import accuracy_score, precision_score, recall_score, f1_score, make_scorer\n",
    "from sklearn.preprocessing import StandardScaler"
   ]
  },
  {
   "cell_type": "markdown",
   "metadata": {},
   "source": [
    "Let's check that GPU is working:"
   ]
  },
  {
   "cell_type": "code",
   "execution_count": 2,
   "metadata": {},
   "outputs": [
    {
     "data": {
      "text/plain": [
       "[name: \"/device:CPU:0\"\n",
       " device_type: \"CPU\"\n",
       " memory_limit: 268435456\n",
       " locality {\n",
       " }\n",
       " incarnation: 14035070561191575579, name: \"/device:GPU:0\"\n",
       " device_type: \"GPU\"\n",
       " memory_limit: 6662668288\n",
       " locality {\n",
       "   bus_id: 1\n",
       "   links {\n",
       "   }\n",
       " }\n",
       " incarnation: 16692162875789640270\n",
       " physical_device_desc: \"device: 0, name: GeForce GTX 1070 Ti, pci bus id: 0000:09:00.0, compute capability: 6.1\"]"
      ]
     },
     "execution_count": 2,
     "metadata": {},
     "output_type": "execute_result"
    }
   ],
   "source": [
    "from tensorflow.python.client import device_lib\n",
    "device_lib.list_local_devices()"
   ]
  },
  {
   "cell_type": "markdown",
   "metadata": {},
   "source": [
    "## About the data\n",
    "\n",
    "The MNIST database contains 60,000 training images and 10,000 testing images of digits written by high school students and employees of the United States Census Bureau."
   ]
  },
  {
   "cell_type": "code",
   "execution_count": 3,
   "metadata": {},
   "outputs": [],
   "source": [
    "from keras.datasets import mnist\n",
    "\n",
    "(X, y), (X_test, y_test) = mnist.load_data()"
   ]
  },
  {
   "cell_type": "code",
   "execution_count": 4,
   "metadata": {},
   "outputs": [
    {
     "data": {
      "text/plain": [
       "(60000, 28, 28)"
      ]
     },
     "execution_count": 4,
     "metadata": {},
     "output_type": "execute_result"
    }
   ],
   "source": [
    "X.shape"
   ]
  },
  {
   "cell_type": "code",
   "execution_count": 5,
   "metadata": {},
   "outputs": [
    {
     "data": {
      "image/png": "[encoded data removed]",
      "text/plain": [
       "<Figure size 432x288 with 1 Axes>"
      ]
     },
     "metadata": {
      "needs_background": "light"
     },
     "output_type": "display_data"
    }
   ],
   "source": [
    "plt.imshow(X[12])\n",
    "plt.axis(\"off\")\n",
    "plt.show()"
   ]
  },
  {
   "cell_type": "code",
   "execution_count": 6,
   "metadata": {},
   "outputs": [
    {
     "data": {
      "text/plain": [
       "3"
      ]
     },
     "execution_count": 6,
     "metadata": {},
     "output_type": "execute_result"
    }
   ],
   "source": [
    "y[12]"
   ]
  },
  {
   "cell_type": "markdown",
   "metadata": {},
   "source": [
    "## Standard Neural Network\n",
    "\n",
    "\n",
    "#### Preprocessing"
   ]
  },
  {
   "cell_type": "code",
   "execution_count": 7,
   "metadata": {},
   "outputs": [],
   "source": [
    "# Train validation split\n",
    "X_train, X_val, y_train, y_val = train_test_split(X, y, test_size=0.2, random_state=11)\n",
    "\n",
    "# Vectorizing images\n",
    "num_pixels = X_train.shape[1] * X_train.shape[2]\n",
    "X_train = X_train.reshape(X_train.shape[0], num_pixels).astype('float32')\n",
    "X_test = X_test.reshape(X_test.shape[0], num_pixels).astype('float32')\n",
    "X_val = X_val.reshape(X_val.shape[0], num_pixels).astype('float32')\n",
    "\n",
    "# Normalizing\n",
    "X_train = X_train / X_train.max()\n",
    "X_test = X_test / X_test.max()\n",
    "X_val = X_val / X_val.max()\n",
    "\n",
    "# One hot encoding outputs\n",
    "y_train = to_categorical(y_train)\n",
    "y_test = to_categorical(y_test)\n",
    "y_val = to_categorical(y_val)"
   ]
  },
  {
   "cell_type": "markdown",
   "metadata": {},
   "source": [
    "#### Evaluation metrics\n",
    "\n",
    "Since Keras have removed f1 score I will create a custom one:"
   ]
  },
  {
   "cell_type": "code",
   "execution_count": 8,
   "metadata": {},
   "outputs": [],
   "source": [
    "from keras import backend as K\n",
    "\n",
    "def f1(y_true, y_pred):\n",
    "    def recall(y_true, y_pred):\n",
    "        \"\"\"Recall metric.\n",
    "\n",
    "        Only computes a batch-wise average of recall.\n",
    "\n",
    "        Computes the recall, a metric for multi-label classification of\n",
    "        how many relevant items are selected.\n",
    "        \"\"\"\n",
    "        true_positives = K.sum(K.round(K.clip(y_true * y_pred, 0, 1)))\n",
    "        possible_positives = K.sum(K.round(K.clip(y_true, 0, 1)))\n",
    "        recall = true_positives / (possible_positives + K.epsilon())\n",
    "        return recall\n",
    "\n",
    "    def precision(y_true, y_pred):\n",
    "        \"\"\"Precision metric.\n",
    "\n",
    "        Only computes a batch-wise average of precision.\n",
    "\n",
    "        Computes the precision, a metric for multi-label classification of\n",
    "        how many selected items are relevant.\n",
    "        \"\"\"\n",
    "        true_positives = K.sum(K.round(K.clip(y_true * y_pred, 0, 1)))\n",
    "        predicted_positives = K.sum(K.round(K.clip(y_pred, 0, 1)))\n",
    "        precision = true_positives / (predicted_positives + K.epsilon())\n",
    "        return precision\n",
    "    precision = precision(y_true, y_pred)\n",
    "    recall = recall(y_true, y_pred)\n",
    "    return 2*((precision*recall)/(precision+recall+K.epsilon()))"
   ]
  },
  {
   "cell_type": "markdown",
   "metadata": {},
   "source": [
    "#### Training a model"
   ]
  },
  {
   "cell_type": "code",
   "execution_count": 9,
   "metadata": {},
   "outputs": [],
   "source": [
    "def create_classification_model():\n",
    "    model = Sequential()\n",
    "    model.add(Dense(num_pixels, activation=\"relu\", input_shape=(num_pixels, )))\n",
    "    model.add(Dense(100, activation=\"relu\"))\n",
    "    model.add(Dense(10, activation=\"relu\"))\n",
    "    model.add(Dense(y_train.shape[1], activation=\"softmax\"))    \n",
    "    model.compile(optimizer=\"adam\", loss=\"categorical_crossentropy\", metrics=['accuracy', f1])\n",
    "    return model"
   ]
  },
  {
   "cell_type": "code",
   "execution_count": 10,
   "metadata": {},
   "outputs": [
    {
     "name": "stdout",
     "output_type": "stream",
     "text": [
      "Train on 48000 samples, validate on 12000 samples\n",
      "Epoch 1/10\n",
      " - 6s - loss: 0.2609 - accuracy: 0.9234 - f1: 0.9175 - val_loss: 0.1804 - val_accuracy: 0.9517 - val_f1: 0.9509\n",
      "Epoch 2/10\n",
      " - 5s - loss: 0.0948 - accuracy: 0.9720 - f1: 0.9723 - val_loss: 0.1060 - val_accuracy: 0.9682 - val_f1: 0.9683\n",
      "Epoch 3/10\n",
      " - 5s - loss: 0.0632 - accuracy: 0.9804 - f1: 0.9806 - val_loss: 0.0976 - val_accuracy: 0.9730 - val_f1: 0.9739\n",
      "Epoch 4/10\n",
      " - 5s - loss: 0.0477 - accuracy: 0.9853 - f1: 0.9854 - val_loss: 0.1128 - val_accuracy: 0.9691 - val_f1: 0.9691\n",
      "Epoch 5/10\n",
      " - 5s - loss: 0.0365 - accuracy: 0.9886 - f1: 0.9887 - val_loss: 0.1016 - val_accuracy: 0.9732 - val_f1: 0.9738\n",
      "Epoch 6/10\n",
      " - 5s - loss: 0.0286 - accuracy: 0.9906 - f1: 0.9906 - val_loss: 0.1467 - val_accuracy: 0.9650 - val_f1: 0.9657\n",
      "Epoch 7/10\n",
      " - 5s - loss: 0.0263 - accuracy: 0.9914 - f1: 0.9915 - val_loss: 0.1002 - val_accuracy: 0.9757 - val_f1: 0.9761\n",
      "Epoch 8/10\n",
      " - 5s - loss: 0.0244 - accuracy: 0.9925 - f1: 0.9925 - val_loss: 0.1235 - val_accuracy: 0.9725 - val_f1: 0.9730\n",
      "Epoch 9/10\n",
      " - 5s - loss: 0.0192 - accuracy: 0.9940 - f1: 0.9941 - val_loss: 0.1268 - val_accuracy: 0.9728 - val_f1: 0.9732\n",
      "Epoch 10/10\n",
      " - 5s - loss: 0.0171 - accuracy: 0.9946 - f1: 0.9947 - val_loss: 0.1229 - val_accuracy: 0.9743 - val_f1: 0.9746\n"
     ]
    },
    {
     "data": {
      "text/plain": [
       "<keras.callbacks.callbacks.History at 0x1788876c488>"
      ]
     },
     "execution_count": 10,
     "metadata": {},
     "output_type": "execute_result"
    }
   ],
   "source": [
    "model = create_classification_model()\n",
    "\n",
    "model.fit(X_train, y_train, validation_data=(X_val, y_val), epochs=10, verbose=2)"
   ]
  },
  {
   "cell_type": "code",
   "execution_count": 11,
   "metadata": {},
   "outputs": [
    {
     "name": "stdout",
     "output_type": "stream",
     "text": [
      "Accuracy: 97.81%\n",
      "F1: 97.83%\n"
     ]
    }
   ],
   "source": [
    "scores = model.evaluate(X_test, y_test, verbose=0)\n",
    "accuracy, f1_scores = scores[1], scores[2]\n",
    "print('Accuracy: {:.2f}%'.format(accuracy*100))\n",
    "print('F1: {:.2f}%'.format(f1_scores*100))"
   ]
  },
  {
   "cell_type": "markdown",
   "metadata": {},
   "source": [
    "Very good. Now let's see what Convolutional NN can"
   ]
  },
  {
   "cell_type": "markdown",
   "metadata": {},
   "source": [
    "# Convolutional Neural Network (CNN)\n",
    "\n",
    "#### Preprocessing"
   ]
  },
  {
   "cell_type": "code",
   "execution_count": 12,
   "metadata": {},
   "outputs": [],
   "source": [
    "(X, y), (X_test, y_test) = mnist.load_data()\n",
    "\n",
    "# Train validation split\n",
    "X_train, X_val, y_train, y_val = train_test_split(X, y, test_size=0.2, random_state=11)\n",
    "\n",
    "# 4D reshape\n",
    "X_train = X_train.reshape(X_train.shape[0], 28, 28, 1).astype('float32')\n",
    "X_val = X_val.reshape(X_val.shape[0], 28, 28, 1).astype('float32')\n",
    "X_test = X_test.reshape(X_test.shape[0], 28, 28, 1).astype('float32')\n",
    "\n",
    "# Normalizing\n",
    "X_train = X_train / X_train.max()\n",
    "X_test = X_test / X_test.max()\n",
    "X_val = X_val / X_val.max()\n",
    "\n",
    "# One hot encoding outputs\n",
    "y_train = to_categorical(y_train)\n",
    "y_test = to_categorical(y_test)\n",
    "y_val = to_categorical(y_val)"
   ]
  },
  {
   "cell_type": "markdown",
   "metadata": {},
   "source": [
    "#### Training a model"
   ]
  },
  {
   "cell_type": "code",
   "execution_count": 13,
   "metadata": {},
   "outputs": [],
   "source": [
    "num_classes = y_train.shape[1]\n",
    "\n",
    "def create_cnn_model():\n",
    "    model = Sequential()\n",
    "    model.add(Conv2D(16, kernel_size=(5,5), activation=\"relu\", input_shape=(28,28,1)))\n",
    "    model.add(MaxPooling2D(pool_size=(2,2), strides=(2,2)))\n",
    "    model.add(Conv2D(32, kernel_size=(2,2), activation=\"relu\"))\n",
    "    model.add(MaxPooling2D(pool_size=(2,2), strides=(2,2)))\n",
    "    model.add(Flatten())\n",
    "    model.add(Dense(100, activation=\"relu\"))\n",
    "    model.add(Dense(num_classes, activation=\"softmax\"))\n",
    "    model.compile(optimizer=\"adam\", loss=\"categorical_crossentropy\", metrics=['accuracy', f1])\n",
    "    return model"
   ]
  },
  {
   "cell_type": "code",
   "execution_count": 14,
   "metadata": {},
   "outputs": [],
   "source": [
    "cnn_model = create_cnn_model()"
   ]
  },
  {
   "cell_type": "code",
   "execution_count": 15,
   "metadata": {},
   "outputs": [
    {
     "name": "stdout",
     "output_type": "stream",
     "text": [
      "Train on 48000 samples, validate on 12000 samples\n",
      "Epoch 1/10\n",
      " - 3s - loss: 0.3729 - accuracy: 0.8956 - f1: 0.8494 - val_loss: 0.1282 - val_accuracy: 0.9622 - val_f1: 0.9628\n",
      "Epoch 2/10\n",
      " - 1s - loss: 0.0970 - accuracy: 0.9719 - f1: 0.9721 - val_loss: 0.0894 - val_accuracy: 0.9746 - val_f1: 0.9745\n",
      "Epoch 3/10\n",
      " - 1s - loss: 0.0713 - accuracy: 0.9786 - f1: 0.9789 - val_loss: 0.0789 - val_accuracy: 0.9757 - val_f1: 0.9756\n",
      "Epoch 4/10\n",
      " - 1s - loss: 0.0550 - accuracy: 0.9833 - f1: 0.9837 - val_loss: 0.0671 - val_accuracy: 0.9803 - val_f1: 0.9811\n",
      "Epoch 5/10\n",
      " - 1s - loss: 0.0471 - accuracy: 0.9851 - f1: 0.9855 - val_loss: 0.0544 - val_accuracy: 0.9833 - val_f1: 0.9835\n",
      "Epoch 6/10\n",
      " - 1s - loss: 0.0388 - accuracy: 0.9881 - f1: 0.9883 - val_loss: 0.0524 - val_accuracy: 0.9849 - val_f1: 0.9851\n",
      "Epoch 7/10\n",
      " - 1s - loss: 0.0329 - accuracy: 0.9899 - f1: 0.9900 - val_loss: 0.0502 - val_accuracy: 0.9861 - val_f1: 0.9861\n",
      "Epoch 8/10\n",
      " - 1s - loss: 0.0304 - accuracy: 0.9910 - f1: 0.9910 - val_loss: 0.0540 - val_accuracy: 0.9835 - val_f1: 0.9835\n",
      "Epoch 9/10\n",
      " - 1s - loss: 0.0268 - accuracy: 0.9920 - f1: 0.9919 - val_loss: 0.0495 - val_accuracy: 0.9848 - val_f1: 0.9850\n",
      "Epoch 10/10\n",
      " - 1s - loss: 0.0224 - accuracy: 0.9931 - f1: 0.9932 - val_loss: 0.0466 - val_accuracy: 0.9864 - val_f1: 0.9863\n"
     ]
    },
    {
     "data": {
      "text/plain": [
       "<keras.callbacks.callbacks.History at 0x17880378088>"
      ]
     },
     "execution_count": 15,
     "metadata": {},
     "output_type": "execute_result"
    }
   ],
   "source": [
    "cnn_model.fit(X_train, y_train, validation_data=(X_val, y_val), batch_size=200, epochs=10, verbose=2)"
   ]
  },
  {
   "cell_type": "code",
   "execution_count": 16,
   "metadata": {},
   "outputs": [
    {
     "name": "stdout",
     "output_type": "stream",
     "text": [
      "Accuracy: 98.89%\n",
      "F1: 98.91%\n"
     ]
    }
   ],
   "source": [
    "scores = cnn_model.evaluate(X_test, y_test, verbose=0)\n",
    "accuracy, f1_scores = scores[1], scores[2]\n",
    "print('Accuracy: {:.2f}%'.format(accuracy*100))\n",
    "print('F1: {:.2f}%'.format(f1_scores*100))"
   ]
  },
  {
   "cell_type": "markdown",
   "metadata": {},
   "source": [
    "Convolutional neural network shows two times smaller loss. Great!"
   ]
  },
  {
   "cell_type": "markdown",
   "metadata": {},
   "source": [
    "# SGD Classification model\n",
    "\n",
    "Just to compare with NN"
   ]
  },
  {
   "cell_type": "code",
   "execution_count": 17,
   "metadata": {},
   "outputs": [],
   "source": [
    "(X, y), (X_test, y_test) = mnist.load_data()\n",
    "\n",
    "# Vectorization\n",
    "X_train = X.reshape(X.shape[0], num_pixels)\n",
    "X_test = X_train.reshape(X_train.shape[0], num_pixels)\n",
    "\n",
    "# Normalizing\n",
    "X_train = X_train / X_train.max()"
   ]
  },
  {
   "cell_type": "code",
   "execution_count": 18,
   "metadata": {},
   "outputs": [],
   "source": [
    "def print_scores(score):\n",
    "    print(\"Accuracy:  {:0.2f}%\".format(100*score['test_accuracy'].mean()))\n",
    "    print(\"F1 score:  {:0.2f}%\".format(100*score['test_f1'].mean()))\n",
    "    \n",
    "scoring = {\n",
    "    'accuracy': make_scorer(accuracy_score),\n",
    "    'f1': make_scorer(f1_score, average=\"weighted\")\n",
    "}"
   ]
  },
  {
   "cell_type": "code",
   "execution_count": 19,
   "metadata": {},
   "outputs": [
    {
     "name": "stderr",
     "output_type": "stream",
     "text": [
      "[Parallel(n_jobs=12)]: Using backend LokyBackend with 12 concurrent workers.\n",
      "[Parallel(n_jobs=12)]: Done   3 out of   3 | elapsed:   12.3s finished\n"
     ]
    }
   ],
   "source": [
    "clf_model = SGDClassifier(random_state=11)\n",
    "score = cross_validate(clf_model, X_train, y, cv=3, verbose=3, scoring=scoring, n_jobs=12)"
   ]
  },
  {
   "cell_type": "code",
   "execution_count": 20,
   "metadata": {},
   "outputs": [
    {
     "name": "stdout",
     "output_type": "stream",
     "text": [
      "Accuracy:  90.65%\n",
      "F1 score:  90.61%\n"
     ]
    }
   ],
   "source": [
    "print_scores(score)"
   ]
  },
  {
   "cell_type": "markdown",
   "metadata": {},
   "source": [
    "Good results but not as fantastic as CNN shows"
   ]
  },
  {
   "cell_type": "markdown",
   "metadata": {},
   "source": [
    "## Save the model"
   ]
  },
  {
   "cell_type": "code",
   "execution_count": 21,
   "metadata": {},
   "outputs": [],
   "source": [
    "cnn_model.save('mnist_nn.h5')"
   ]
  }
 ],
 "metadata": {
  "kernelspec": {
   "display_name": "Python37",
   "language": "python",
   "name": "python37"
  },
  "language_info": {
   "codemirror_mode": {
    "name": "ipython",
    "version": 3
   },
   "file_extension": ".py",
   "mimetype": "text/x-python",
   "name": "python",
   "nbconvert_exporter": "python",
   "pygments_lexer": "ipython3",
   "version": "3.7.6"
  }
 },
 "nbformat": 4,
 "nbformat_minor": 4
}
